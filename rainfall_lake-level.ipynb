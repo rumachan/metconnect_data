{
 "cells": [
  {
   "cell_type": "markdown",
   "metadata": {},
   "source": [
    "# Visualize White Island Rainfall Data For Crater Lake Level Assessment\n",
    "\n",
    "Rainfal data stored in a series of (monthly) CSV files scraped from Metconnect (using a separate notebook).\n",
    "Lake level data from FITS."
   ]
  },
  {
   "cell_type": "code",
   "execution_count": null,
   "metadata": {},
   "outputs": [],
   "source": [
    "%%javascript\n",
    "IPython.OutputArea.prototype._should_scroll = function(lines) {\n",
    "    return false;\n",
    "}"
   ]
  },
  {
   "cell_type": "code",
   "execution_count": null,
   "metadata": {},
   "outputs": [],
   "source": [
    "import pandas as pd\n",
    "import glob\n",
    "import matplotlib.pyplot as plt\n",
    "import numpy as np"
   ]
  },
  {
   "cell_type": "markdown",
   "metadata": {},
   "source": [
    "**rainfall data**"
   ]
  },
  {
   "cell_type": "code",
   "execution_count": null,
   "metadata": {},
   "outputs": [],
   "source": [
    "files = sorted(glob.glob('*.csv'))\n",
    "\n",
    "df = pd.DataFrame()\n",
    "for f in files:\n",
    "    month = pd.read_csv(f, index_col='Date', parse_dates=True)\n",
    "    df = df.append(month)"
   ]
  },
  {
   "cell_type": "markdown",
   "metadata": {},
   "source": [
    "**lake level data**"
   ]
  },
  {
   "cell_type": "code",
   "execution_count": null,
   "metadata": {},
   "outputs": [],
   "source": [
    "url = 'https://fits.geonet.org.nz/observation?siteID=WI200&typeID=z&methodID=img&days=290'\n",
    "ll = pd.read_csv(url, parse_dates=True, index_col='date-time')"
   ]
  },
  {
   "cell_type": "code",
   "execution_count": null,
   "metadata": {
    "scrolled": true
   },
   "outputs": [],
   "source": [
    "fig,(ax1,ax2) = plt.subplots(nrows=2,ncols=1, figsize=(15,10))\n",
    "ax1.bar(df.index, df['Rainfall'])\n",
    "ax1.set_ylabel('rainfall (mm)')\n",
    "ax2.plot(df.index, np.cumsum(df['Rainfall']))\n",
    "ax2.set_ylabel('cumulative rainfall (mm)')\n",
    "\n",
    "ax3 = ax2.twinx()\n",
    "ax3.plot(ll.index, ll[' z (m)'], marker='o', color='#ff7f0e')\n",
    "ax3.set_ylim([-1,11])\n",
    "ax3.tick_params(axis='y')\n",
    "ax3.set_ylabel('lake level (m asl)', color='#ff7f0e')\n",
    "\n",
    "plt.savefig('rainfall.png')"
   ]
  },
  {
   "cell_type": "markdown",
   "metadata": {},
   "source": [
    "# Lake Catchment Analysis"
   ]
  },
  {
   "cell_type": "markdown",
   "metadata": {},
   "source": [
    "Rainfall and Water Level Rise\n",
    "--\n",
    "\n",
    "During 2018, the lake has risen about 10 m.\n",
    "\n",
    "During the same period, there has been about 1 m of direct rainfall on the lake. Allowing for ~2.5 month of missing data, I assume 1.3 m of rainfall on the lake."
   ]
  },
  {
   "cell_type": "markdown",
   "metadata": {},
   "source": [
    "Catchment Area\n",
    "--\n",
    "\n",
    "This is about 5.5 times the area of the lake. The GE image is for 2011, but the lake area won't have increased by more than 10% in the 2016 eruption???\n",
    "![](lake_catchment_area.png)"
   ]
  },
  {
   "cell_type": "markdown",
   "metadata": {},
   "source": [
    "Rainfall Accounts for About 70% of the Lake Level Rise in 2018\n",
    "--\n",
    "\n",
    "During 2018, about 1.3 m * 5.5 ~= 7 m of water ended up in the lake. Assuming no evaporation, etc. This is about 70% of the lake level rise in the same period.\n",
    "\n",
    "If we assume the lake increased in area by 10% in the 2016 eruption, the area ratio is about 5. This implies about 1.3 m * 5 ~= 6.5 m of water ended up in the lake, about 65% of the lake level rise."
   ]
  }
 ],
 "metadata": {
  "kernelspec": {
   "display_name": "Python 3",
   "language": "python",
   "name": "python3"
  },
  "language_info": {
   "codemirror_mode": {
    "name": "ipython",
    "version": 3
   },
   "file_extension": ".py",
   "mimetype": "text/x-python",
   "name": "python",
   "nbconvert_exporter": "python",
   "pygments_lexer": "ipython3",
   "version": "3.6.6"
  }
 },
 "nbformat": 4,
 "nbformat_minor": 2
}
