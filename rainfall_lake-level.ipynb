{
 "cells": [
  {
   "cell_type": "markdown",
   "metadata": {},
   "source": [
    "# Visualize White Island Rainfall Data For Crater Lake Level Assessment\n",
    "\n",
    "Rainfal data stored in a series of (monthly) CSV files scraped from Metconnect (using a separate notebook).\n",
    "Lake level data from FITS."
   ]
  },
  {
   "cell_type": "code",
   "execution_count": null,
   "metadata": {},
   "outputs": [],
   "source": [
    "%%javascript\n",
    "IPython.OutputArea.prototype._should_scroll = function(lines) {\n",
    "    return false;\n",
    "}"
   ]
  },
  {
   "cell_type": "code",
   "execution_count": null,
   "metadata": {},
   "outputs": [],
   "source": [
    "import pandas as pd\n",
    "import glob\n",
    "import matplotlib.pyplot as plt\n",
    "import numpy as np"
   ]
  },
  {
   "cell_type": "markdown",
   "metadata": {},
   "source": [
    "**rainfall data**"
   ]
  },
  {
   "cell_type": "code",
   "execution_count": null,
   "metadata": {},
   "outputs": [],
   "source": [
    "files = sorted(glob.glob('*.csv'))\n",
    "\n",
    "df = pd.DataFrame()\n",
    "for f in files:\n",
    "    month = pd.read_csv(f, index_col='Date', parse_dates=True)\n",
    "    df = df.append(month)"
   ]
  },
  {
   "cell_type": "markdown",
   "metadata": {},
   "source": [
    "**lake level data**"
   ]
  },
  {
   "cell_type": "code",
   "execution_count": null,
   "metadata": {},
   "outputs": [],
   "source": [
    "url = 'https://fits.geonet.org.nz/observation?siteID=WI200&typeID=z&methodID=img&days=365'\n",
    "ll = pd.read_csv(url, parse_dates=True, index_col='date-time')"
   ]
  },
  {
   "cell_type": "code",
   "execution_count": null,
   "metadata": {
    "scrolled": false
   },
   "outputs": [],
   "source": [
    "fig,(ax1) = plt.subplots(nrows=1,ncols=1, figsize=(15,7.5))\n",
    "ax1.bar(df.index, df['Rainfall'])\n",
    "ax1.set_ylabel('rainfall (mm)')\n",
    "plt.savefig('rainfall.png')"
   ]
  },
  {
   "cell_type": "markdown",
   "metadata": {},
   "source": [
    "# Lake Catchment Analysis"
   ]
  },
  {
   "cell_type": "markdown",
   "metadata": {},
   "source": [
    "Rainfall and Water Level Rise\n",
    "--\n",
    "\n",
    "During 2018, the lake has risen about 10 m.\n",
    "\n",
    "During the same period, there has been about 1 m of direct rainfall on the lake. Allowing for ~2.5 month of missing data, I assume 1.3 m of rainfall on the lake."
   ]
  },
  {
   "cell_type": "markdown",
   "metadata": {},
   "source": [
    "Catchment Area\n",
    "--\n",
    "\n",
    "This is about 5.5 times the area of the lake. The GE image is for 2011, but the lake area won't have increased by more than 10% in the 2016 eruption???\n",
    "![](lake_catchment_area.png)"
   ]
  },
  {
   "cell_type": "markdown",
   "metadata": {},
   "source": [
    "# Volume - Depth\n",
    "\n",
    "Cam's table"
   ]
  },
  {
   "cell_type": "code",
   "execution_count": null,
   "metadata": {},
   "outputs": [],
   "source": [
    "vd = pd.read_excel('WI_Volume_with_depth.xlsx')\n",
    "vd.head()"
   ]
  },
  {
   "cell_type": "markdown",
   "metadata": {},
   "source": [
    "**Fit oder 2 polynomial to height vs volume**"
   ]
  },
  {
   "cell_type": "code",
   "execution_count": null,
   "metadata": {},
   "outputs": [],
   "source": [
    "import numpy as np\n",
    "\n",
    "X = vd['MASL'].values\n",
    "y = vd['Volume'].values\n",
    "\n",
    "coefs = np.polyfit(X, y, 2)\n",
    "p = np.poly1d(coefs)\n",
    "\n",
    "fig,(ax1) = plt.subplots(nrows=1,ncols=1, figsize=(7,7))\n",
    "ax1.plot(vd['MASL'], vd['Volume'], label='obs')\n",
    "ax1.set_ylabel('Volume (m^3)')\n",
    "ax1.set_xlabel('Height above sea level (m)')\n",
    "ax1.plot(vd['MASL'], p(X), color='red', label='fit')\n",
    "plt.legend()"
   ]
  },
  {
   "cell_type": "markdown",
   "metadata": {},
   "source": [
    "**Calculate volume for each observed height**"
   ]
  },
  {
   "cell_type": "code",
   "execution_count": null,
   "metadata": {},
   "outputs": [],
   "source": [
    "ll['volume'] = p(ll[' z (m)'])"
   ]
  },
  {
   "cell_type": "markdown",
   "metadata": {},
   "source": [
    "**Plot volume**"
   ]
  },
  {
   "cell_type": "code",
   "execution_count": null,
   "metadata": {},
   "outputs": [],
   "source": [
    "fig,(ax1) = plt.subplots(nrows=1,ncols=1, figsize=(15,5))\n",
    "ax1.plot(df.index, np.cumsum(df['Rainfall']))\n",
    "ax1.set_ylabel('cumulative rainfall (mm)')\n",
    "\n",
    "ax2 = ax1.twinx()\n",
    "ax2.plot(ll.index, (ll['volume']), marker='o', color='#ff7f0e')\n",
    "\n",
    "ax2.set_ylabel('lake volume (m$^3$)', color='#ff7f0e')\n",
    "\n",
    "plt.savefig('volume-rainfall.png')"
   ]
  },
  {
   "cell_type": "markdown",
   "metadata": {},
   "source": [
    "**Plot level**"
   ]
  },
  {
   "cell_type": "code",
   "execution_count": null,
   "metadata": {},
   "outputs": [],
   "source": [
    "fig,(ax1) = plt.subplots(nrows=1,ncols=1, figsize=(15,5))\n",
    "ax1.plot(df.index, np.cumsum(df['Rainfall']))\n",
    "ax1.set_ylabel('cumulative rainfall (mm)')\n",
    "\n",
    "ax2 = ax1.twinx()\n",
    "ax2.plot(ll.index, (ll[' z (m)']), marker='o', color='#ff7f0e')\n",
    "\n",
    "ax2.set_ylabel('lake level (m)', color='#ff7f0e')\n",
    "\n",
    "plt.savefig('level-rainfall.png')"
   ]
  }
 ],
 "metadata": {
  "kernelspec": {
   "display_name": "Python 3",
   "language": "python",
   "name": "python3"
  },
  "language_info": {
   "codemirror_mode": {
    "name": "ipython",
    "version": 3
   },
   "file_extension": ".py",
   "mimetype": "text/x-python",
   "name": "python",
   "nbconvert_exporter": "python",
   "pygments_lexer": "ipython3",
   "version": "3.6.7"
  }
 },
 "nbformat": 4,
 "nbformat_minor": 2
}
