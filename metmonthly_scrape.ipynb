{
 "cells": [
  {
   "cell_type": "markdown",
   "metadata": {},
   "source": [
    "# Scrape Weather Observations From Metconnect 'Observations by Day - White Island' Web Page\n",
    "\n",
    "1. This notebook uses the html source of the web page.\n",
    "2. Save the page as a name like '201810.html', for a file for October 2018.\n",
    "3. Edit the code line that starts *htmlfile =*.\n",
    "4. Run this notebook by clicking Cell -> Run All.\n",
    "5. A CSV file named like '201810.csv' is saved."
   ]
  },
  {
   "cell_type": "code",
   "execution_count": 194,
   "metadata": {},
   "outputs": [
    {
     "data": {
      "text/html": [
       "<style>.container { width:100% !important; }</style>"
      ],
      "text/plain": [
       "<IPython.core.display.HTML object>"
      ]
     },
     "metadata": {},
     "output_type": "display_data"
    }
   ],
   "source": [
    "from IPython.core.display import display, HTML\n",
    "display(HTML(\"<style>.container { width:100% !important; }</style>\"))"
   ]
  },
  {
   "cell_type": "code",
   "execution_count": 195,
   "metadata": {},
   "outputs": [],
   "source": [
    "from bs4 import BeautifulSoup\n",
    "import re\n",
    "import pandas as pd\n",
    "from pandas.compat import StringIO\n",
    "import numpy as np\n",
    "import os"
   ]
  },
  {
   "cell_type": "code",
   "execution_count": 196,
   "metadata": {},
   "outputs": [],
   "source": [
    "def cleanhtml(raw_html):\n",
    "    #drop all html tags\n",
    "    cleanr = re.compile('<.*?>')\n",
    "    cleantext = re.sub(cleanr, ',', raw_html)\n",
    "    return cleantext"
   ]
  },
  {
   "cell_type": "markdown",
   "metadata": {},
   "source": [
    "**input html file**"
   ]
  },
  {
   "cell_type": "code",
   "execution_count": 197,
   "metadata": {},
   "outputs": [],
   "source": [
    "htmlfile = '201810.html'"
   ]
  },
  {
   "cell_type": "markdown",
   "metadata": {},
   "source": [
    "**csv filename for output**"
   ]
  },
  {
   "cell_type": "code",
   "execution_count": 198,
   "metadata": {},
   "outputs": [],
   "source": [
    "name, ext = os.path.splitext(htmlfile)\n",
    "csvfile = name+'.csv'"
   ]
  },
  {
   "cell_type": "markdown",
   "metadata": {},
   "source": [
    "**parse html file**"
   ]
  },
  {
   "cell_type": "code",
   "execution_count": 199,
   "metadata": {},
   "outputs": [],
   "source": [
    "raw_html = open(htmlfile).read()\n",
    "soup = BeautifulSoup(raw_html, 'html.parser')"
   ]
  },
  {
   "cell_type": "markdown",
   "metadata": {},
   "source": [
    "**observation dates**"
   ]
  },
  {
   "cell_type": "code",
   "execution_count": 201,
   "metadata": {
    "scrolled": true
   },
   "outputs": [],
   "source": [
    "s = pd.Series()\n",
    "\n",
    "for dateblock in (soup.select(\"a[href*='daily?date=']\")):\n",
    "    d = pd.Series(str(dateblock).split('=')[2][:8])\n",
    "    s = s.append(d)\n",
    "s = pd.to_datetime(s)\n",
    "s = s.reset_index(drop=True)"
   ]
  },
  {
   "cell_type": "markdown",
   "metadata": {},
   "source": [
    "**weather observations**"
   ]
  },
  {
   "cell_type": "code",
   "execution_count": 202,
   "metadata": {},
   "outputs": [],
   "source": [
    "#select the table (which contains the data we need)\n",
    "bigtab = soup.select('table')\n",
    "tbody = bigtab[0].tbody"
   ]
  },
  {
   "cell_type": "code",
   "execution_count": null,
   "metadata": {},
   "outputs": [],
   "source": [
    "#dataframe for the data\n",
    "df  = pd.DataFrame()\n",
    "\n",
    "#extract rows of the data table, strip out html tags, add a comma separator, append each rows to the dataframe\n",
    "for block in (tbody.find_all('tr')):\n",
    "    obsdata = cleanhtml(str(block))\n",
    "    d = pd.read_csv(StringIO(obsdata), sep=',', header=None)\n",
    "    df = df.append(d, ignore_index=True)\n",
    "\n",
    "#drop any rows that are all NaN, these are empty rows included by the klutzy data extraction procedure\n",
    "df.dropna(axis='columns', how='all', inplace=True)\n",
    "\n",
    "#assign column names,including dummy columns\n",
    "columns = ['Date', 'Rainfall', 'Wind_dir', 'Wind_mean', 'Wind_gust', 'AirTemp_min', 'AirTemp_max', 'AirTemp_mean', '20', '22', '24', '26', '28' ]\n",
    "df.columns = columns\n",
    "\n",
    "#drop columns not required\n",
    "df.drop(labels=['Date','20','22','24','26','28'], axis=1, inplace=True)\n",
    "\n",
    "#replace any - symbols with NaN\n",
    "df.replace('-',np.nan, inplace=True)"
   ]
  },
  {
   "cell_type": "markdown",
   "metadata": {},
   "source": [
    "**merge obsevation dates into weather data**"
   ]
  },
  {
   "cell_type": "code",
   "execution_count": 203,
   "metadata": {},
   "outputs": [],
   "source": [
    "df['Date'] = s\n",
    "df.set_index('Date', inplace=True)"
   ]
  },
  {
   "cell_type": "markdown",
   "metadata": {},
   "source": [
    "**convert string data to numeric**"
   ]
  },
  {
   "cell_type": "code",
   "execution_count": 204,
   "metadata": {},
   "outputs": [],
   "source": [
    "df.Rainfall = pd.to_numeric(df.Rainfall)\n",
    "df.Wind_mean = pd.to_numeric(df.Wind_mean)\n",
    "df.AirTemp_min = pd.to_numeric(df.AirTemp_min)\n",
    "df.AirTemp_max = pd.to_numeric(df.AirTemp_max)\n",
    "df.AirTemp_mean = pd.to_numeric(df.AirTemp_mean)\n",
    "df.Wind_gust = pd.to_numeric(df.Wind_gust)"
   ]
  },
  {
   "cell_type": "markdown",
   "metadata": {},
   "source": [
    "**save data as CSV file**"
   ]
  },
  {
   "cell_type": "code",
   "execution_count": 206,
   "metadata": {},
   "outputs": [],
   "source": [
    "df.to_csv(csvfile)"
   ]
  }
 ],
 "metadata": {
  "kernelspec": {
   "display_name": "Python 3",
   "language": "python",
   "name": "python3"
  },
  "language_info": {
   "codemirror_mode": {
    "name": "ipython",
    "version": 3
   },
   "file_extension": ".py",
   "mimetype": "text/x-python",
   "name": "python",
   "nbconvert_exporter": "python",
   "pygments_lexer": "ipython3",
   "version": "3.6.6"
  }
 },
 "nbformat": 4,
 "nbformat_minor": 2
}
